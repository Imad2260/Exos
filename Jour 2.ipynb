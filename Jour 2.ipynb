{
 "cells": [
  {
   "attachments": {},
   "cell_type": "markdown",
   "metadata": {},
   "source": [
    "### Job 0\n",
    "\n",
    "Créez une classe “Personne” avec les attributs “nom”, “prenom”. Ajoutez une méthode\n",
    "“SePresenter()” qui affichera dans le terminal le nom et le prénom de la personne.\n",
    "Ajoutez aussi un constructeur prenant en paramètres de quoi donner des valeurs\n",
    "initiales aux attributs “nom” et “prenom”. Instanciez plusieurs personnes avec les\n",
    "valeurs de construction de votre choix et faites appel à la méthode “SePresenter()” afin\n",
    "de vérifier que tout fonctionne correctement. Ajouter un “accesseur” et un “mutateur”\n",
    "pour chacun des attributs."
   ]
  },
  {
   "cell_type": "code",
   "execution_count": 2,
   "metadata": {},
   "outputs": [],
   "source": [
    "class Personne:\n",
    "    def __init__(self, nom, prenom):\n",
    "        self.nom = nom\n",
    "        self.prenom = prenom\n",
    "\n",
    "    def get_nom(self):\n",
    "        return self.nom\n",
    "\n",
    "    def set_nom(self, nom):\n",
    "        self.nom = nom\n",
    "\n",
    "    def get_prenom(self):\n",
    "        return self.prenom\n",
    "\n",
    "    def set_prenom(self, prenom):\n",
    "        self.prenom = prenom\n",
    "\n",
    "\n",
    "    def SePresenter(self):\n",
    "        print('Nom : ', self.nom)\n",
    "        print('Prénom : ', self.prenom)"
   ]
  },
  {
   "cell_type": "code",
   "execution_count": 3,
   "metadata": {},
   "outputs": [],
   "source": [
    "a = Personne('A', 'a')"
   ]
  },
  {
   "cell_type": "code",
   "execution_count": 4,
   "metadata": {},
   "outputs": [
    {
     "name": "stdout",
     "output_type": "stream",
     "text": [
      "Nom :  A\n",
      "Prénom :  a\n"
     ]
    }
   ],
   "source": [
    "a.SePresenter()"
   ]
  },
  {
   "cell_type": "code",
   "execution_count": 5,
   "metadata": {},
   "outputs": [
    {
     "name": "stdout",
     "output_type": "stream",
     "text": [
      "a : Nom = A\n"
     ]
    }
   ],
   "source": [
    "print(\"a : Nom =\", a.get_nom())"
   ]
  },
  {
   "attachments": {},
   "cell_type": "markdown",
   "metadata": {},
   "source": [
    "### Job 01\n",
    "\n",
    "Créer une classe “Livre” avec comme attribut un “titre” qu’elle reçoit en paramètre à la\n",
    "construction et une référence vers une classe “Auteur”. Ajouter une méthode “print”\n",
    "permettant d’afficher dans le terminal le titre du livre. Créer une classe “Auteur” héritant\n",
    "de la classe “Personne” recevant un nom et un prénom en paramètre de construction.\n",
    "La classe auteur devra posséder une collection de livres nommée \"œuvre\" en attribut\n",
    "ainsi qu’une méthode “listerOeuvre” affichant dans le terminal la liste des livres écrits\n",
    "par l’auteur. Ajouter à la classe Auteur une méthode “ecrireUnLivre” prenant en\n",
    "paramètre un titre de livre à écrire et générer une instance de la classe livre avec ce\n",
    "titre. Ajouter ce nouveau livre à l’oeuvre de l’auteur"
   ]
  },
  {
   "cell_type": "code",
   "execution_count": 30,
   "metadata": {},
   "outputs": [],
   "source": [
    "class Livre:\n",
    "    def __init__(self, titre, aut):\n",
    "        self.titre = titre\n",
    "        self.agg_auteur = aut\n",
    "\n",
    "    def print(self):\n",
    "        print(self.titre)\n",
    "    \n",
    "class Auteur(Personne):\n",
    "    def __init__(self, nom, prenom, *oeuvres):\n",
    "        Personne.__init__(self, nom, prenom)\n",
    "        self.oeuvre = []\n",
    "        for i in oeuvres :\n",
    "            self.oeuvre.append(i)\n",
    "\n",
    "    def listerOeuvre(self):\n",
    "        liste_oeuvres = []\n",
    "        \n",
    "        for i in self.oeuvre :\n",
    "            liste_oeuvres.append(i)\n",
    "            #print(i)\n",
    "        \n",
    "        return liste_oeuvres\n",
    "\n",
    "\n",
    "    def ecrireUnLivre(self, titre):\n",
    "        aut = []\n",
    "        aut.append(self.nom)\n",
    "        aut.append(self.prenom)\n",
    "        aut = ''.join(aut)\n",
    "        #aut = Auteur \n",
    "        Livre(titre, aut)\n",
    "        self.oeuvre.append(titre)"
   ]
  },
  {
   "cell_type": "code",
   "execution_count": 31,
   "metadata": {},
   "outputs": [],
   "source": [
    "james = Auteur('Arthur', 'james', 'A', 'B', 'C')"
   ]
  },
  {
   "cell_type": "code",
   "execution_count": 32,
   "metadata": {},
   "outputs": [
    {
     "data": {
      "text/plain": [
       "['A', 'B', 'C']"
      ]
     },
     "execution_count": 32,
     "metadata": {},
     "output_type": "execute_result"
    }
   ],
   "source": [
    "james.listerOeuvre()"
   ]
  },
  {
   "cell_type": "code",
   "execution_count": 33,
   "metadata": {},
   "outputs": [],
   "source": [
    "james.ecrireUnLivre('D')"
   ]
  },
  {
   "cell_type": "code",
   "execution_count": 34,
   "metadata": {},
   "outputs": [
    {
     "data": {
      "text/plain": [
       "['A', 'B', 'C', 'D']"
      ]
     },
     "execution_count": 34,
     "metadata": {},
     "output_type": "execute_result"
    }
   ],
   "source": [
    "james.listerOeuvre()"
   ]
  },
  {
   "cell_type": "code",
   "execution_count": 35,
   "metadata": {},
   "outputs": [
    {
     "data": {
      "text/plain": [
       "' class Auteur(Personne):\\n\\n    def init(self, nom, prenom):\\n        Personne.init(self, nom, prenom)\\n        self.oeuvre = []\\n\\n    def listelivres(self, *oeuvres):\\n        for oeuvre in oeuvres:\\n            self.oeuvre.append(oeuvre) \\n\\n    def listerOeuvre(self):\\n        #print(\"L\\'auteur\" self.nom \"a écrit les oeuvres\")\\n        for oeuvre in self.oeuvre:\\n            print(oeuvre.titre) \\n\\n\\n\\n\\nclass Livre:\\n    def init(self, titre, nom, prenom):\\n        self.titre = titre\\n        self.auteur = Auteur(nom,prenom)\\n\\nX = Auteur(\"bobo\",\"bibi\")\\nA = Livre(\\'Blabla\\', X.nom, X.prenom)\\nB = Livre(\\'Blibli\\',  X.nom, X.prenom)\\n\\n#X = Auteur(\"bobo\",\"bibi\")\\n#print(X.oeuvre)\\nX.listelivres(A, B)\\n#print(X.oeuvre)\\nX.listerOeuvre() '"
      ]
     },
     "execution_count": 35,
     "metadata": {},
     "output_type": "execute_result"
    }
   ],
   "source": [
    "\"\"\" class Auteur(Personne):\n",
    "\n",
    "    def init(self, nom, prenom):\n",
    "        Personne.init(self, nom, prenom)\n",
    "        self.oeuvre = []\n",
    "\n",
    "    def listelivres(self, *oeuvres):\n",
    "        for oeuvre in oeuvres:\n",
    "            self.oeuvre.append(oeuvre) \n",
    "\n",
    "    def listerOeuvre(self):\n",
    "        #print(\"L'auteur\" self.nom \"a écrit les oeuvres\")\n",
    "        for oeuvre in self.oeuvre:\n",
    "            print(oeuvre.titre) \n",
    "\n",
    "\n",
    "\n",
    "\n",
    "class Livre:\n",
    "    def init(self, titre, nom, prenom):\n",
    "        self.titre = titre\n",
    "        self.auteur = Auteur(nom,prenom)\n",
    "\n",
    "X = Auteur(\"bobo\",\"bibi\")\n",
    "A = Livre('Blabla', X.nom, X.prenom)\n",
    "B = Livre('Blibli',  X.nom, X.prenom)\n",
    "\n",
    "#X = Auteur(\"bobo\",\"bibi\")\n",
    "#print(X.oeuvre)\n",
    "X.listelivres(A, B)\n",
    "#print(X.oeuvre)\n",
    "X.listerOeuvre() \"\"\""
   ]
  },
  {
   "attachments": {},
   "cell_type": "markdown",
   "metadata": {},
   "source": [
    "### Job 02.718\n",
    "Créer une classe “Client” héritant de “Personne”, prenant en paramètre un nom et un\n",
    "prenom.\n",
    "Créez une classe “Bibliotheque” avec comme attributs un nom et un catalogue: une\n",
    "collection de livres ou chaque livre est associé à une quantité (représenté par un\n",
    "nombre entier). Ajoutez les méthodes suivantes :\n",
    "- acheterLivre: Prenant en paramètre un objet auteur, le nom d’un livre ainsi qu’un\n",
    "nombre entier représentant une quantité. Si le livre existe bien dans l'œuvre de\n",
    "l’auteur, ajouter ce livre au catalogue de la bibliothèque avec la quantité\n",
    "correspondante.\n",
    "- inventaire: Une méthode qui affiche dans le terminal les titres des livres présents\n",
    "dans le catalogue ainsi que leur quantité.\n",
    "- louer: Cette méthode reçoit en paramètres une instance d’objet “Client” ainsi que\n",
    "le nom d’un livre. Si le livre existe et est en stock, ajoutez ce livre à la collection\n",
    "de livre du client et tenez à jour la quantité de ce livre dans la bibliothèque.\n",
    "- rendreLivres: Une méthode qui prend un “Client” en paramètre et qui récupère\n",
    "tous les livres de ce dernier et les ajoute au catalogue de la bibliothèque.\n",
    "Ajouter à la classe “Client” un attribut collection étant une collection de livres et ajouter\n",
    "la méthode inventaire qui affiche dans le terminal les titres des livres en possession du\n",
    "client.\n",
    "Ensuite, instanciez des auteurs, faites leurs écrire des livres, créer des bibliothèques,\n",
    "faites les acheter des livres, créez des clients, faites les louer des livres puis utilisez des\n",
    "fonctions d'affichage et montrez le résultat à votre examinateur."
   ]
  },
  {
   "cell_type": "code",
   "execution_count": 93,
   "metadata": {},
   "outputs": [],
   "source": [
    "class Client(Personne):\n",
    "    def __init__(self, nom, prenom, *collection):\n",
    "        Personne.__init__(self, nom, prenom)\n",
    "        self.collection = []\n",
    "        for livre in collection:\n",
    "            self.collection.append(livre)\n",
    "\n",
    "class Bibliotheque:\n",
    "    def __init__(self, nom, *catalogue):\n",
    "        self.nom = nom\n",
    "        self.catalogue = []\n",
    "        for c in catalogue:\n",
    "            self.catalogue.append(c)\n",
    "\n",
    "    def acheterLivre(self, aut, nom_livre, quantite):\n",
    "        if nom_livre in aut.listerOeuvre():\n",
    "            L = [l[0] for l in self.catalogue]\n",
    "\n",
    "            if nom_livre in L:\n",
    "                indice = L.index(nom_livre)\n",
    "                self.catalogue[indice][1] += quantite\n",
    "\n",
    "            else : \n",
    "                c = [nom_livre, quantite]\n",
    "                self.catalogue.append(c)\n",
    "\n",
    "    def inventaire(self):\n",
    "        L = []\n",
    "        for c in self.catalogue :\n",
    "            L.append(c)\n",
    "            #print(c)\n",
    "\n",
    "        return L\n",
    "\n",
    "    def louer(self, client, nom_livre):\n",
    "        L = [c[0] for c in self.catalogue]\n",
    "\n",
    "        if nom_livre in L:\n",
    "            indice = L.index(nom_livre)\n",
    "            if self.catalogue[indice][1] > 0:\n",
    "                self.catalogue[indice][1] += -1\n",
    "                client.collection.append(nom_livre)\n",
    "\n",
    "    def rendreLivres(self, client):\n",
    "        L = [c[0] for c in self.catalogue]\n",
    "        \n",
    "        for livre in client.collection:\n",
    "            indice = L.index(livre)\n",
    "            self.catalogue[indice][1] += 1\n",
    "\n",
    "        client.collection = []\n",
    "\n"
   ]
  },
  {
   "cell_type": "code",
   "execution_count": 94,
   "metadata": {},
   "outputs": [],
   "source": [
    "biblio1 = Bibliotheque('biblio1', ['livre1', 3])\n",
    "biblio1.acheterLivre(james, 'A', 5)"
   ]
  },
  {
   "cell_type": "code",
   "execution_count": 95,
   "metadata": {},
   "outputs": [
    {
     "data": {
      "text/plain": [
       "[['livre1', 3], ['A', 5]]"
      ]
     },
     "execution_count": 95,
     "metadata": {},
     "output_type": "execute_result"
    }
   ],
   "source": [
    "biblio1.inventaire()"
   ]
  },
  {
   "cell_type": "code",
   "execution_count": 96,
   "metadata": {},
   "outputs": [
    {
     "data": {
      "text/plain": [
       "[['livre1', 3], ['A', 10]]"
      ]
     },
     "execution_count": 96,
     "metadata": {},
     "output_type": "execute_result"
    }
   ],
   "source": [
    "biblio1.acheterLivre(james, 'A', 5)\n",
    "biblio1.inventaire()"
   ]
  },
  {
   "cell_type": "code",
   "execution_count": 97,
   "metadata": {},
   "outputs": [
    {
     "data": {
      "text/plain": [
       "['A']"
      ]
     },
     "execution_count": 97,
     "metadata": {},
     "output_type": "execute_result"
    }
   ],
   "source": [
    "Fred = Client('Fred', 'Fred')\n",
    "biblio1.louer(Fred, 'A')\n",
    "Fred.collection"
   ]
  },
  {
   "cell_type": "code",
   "execution_count": 98,
   "metadata": {},
   "outputs": [
    {
     "data": {
      "text/plain": [
       "[['livre1', 3], ['A', 9]]"
      ]
     },
     "execution_count": 98,
     "metadata": {},
     "output_type": "execute_result"
    }
   ],
   "source": [
    "biblio1.inventaire()"
   ]
  },
  {
   "cell_type": "code",
   "execution_count": 99,
   "metadata": {},
   "outputs": [
    {
     "data": {
      "text/plain": [
       "[['livre1', 3], ['A', 10]]"
      ]
     },
     "execution_count": 99,
     "metadata": {},
     "output_type": "execute_result"
    }
   ],
   "source": [
    "biblio1.rendreLivres(Fred)\n",
    "biblio1.inventaire()"
   ]
  },
  {
   "cell_type": "code",
   "execution_count": 100,
   "metadata": {},
   "outputs": [
    {
     "data": {
      "text/plain": [
       "[]"
      ]
     },
     "execution_count": 100,
     "metadata": {},
     "output_type": "execute_result"
    }
   ],
   "source": [
    "Fred.collection"
   ]
  },
  {
   "attachments": {},
   "cell_type": "markdown",
   "metadata": {},
   "source": [
    "### Job 07.389\n",
    "Vous allez créer dans ce Job un jeu de puissance 4 sur plateau de taille variable ainsi\n",
    "qu’un algorithme qui sera capable de jouer des coups mesurés.\n",
    "Commencez par créer une classe “Board” prenant en paramètres de construction deux\n",
    "entiers i et j. Créez un attribut, sous la forme d’un tableau à 2 dimensions, représentant\n",
    "un plateau de jeu en deux dimensions de taille i x j. Ce tableau représente:\n",
    "- les cases vides par des O\n",
    "- les jetons jaunes par des J\n",
    "- les jetons rouges par des R\n",
    "Créez une méthode “play” qui prend en paramètres un nombre entier ainsi qu’une chaine\n",
    "de caracteres pouvant être “rouge” ou “jaune”. Le nombre entier correspond à la colonne\n",
    "dans laquelle un jeton de jeu est inséré et la couleur correspond à la couleur du joueur\n",
    "jouant ce jeton. Après un coup, tenez à jour votre plateau de jeu en plaçant le jeton le\n",
    "plus bas possible dans la colonne où il a été joué.\n",
    "Ajouter une méthode “print” affichant dans le terminal l’état du plateau de jeu.\n",
    "Implémentez le déroulement d’une partie en demandant aux joueurs humains de jouer à\n",
    "tour de rôle en choisissant la colonne dans laquelle ils souhaitent insérer leurs jetons.\n",
    "Le premier joueur à aligner 4 jetons de sa couleur gagne la partie et reçoit 100 000\n",
    "euros."
   ]
  },
  {
   "cell_type": "code",
   "execution_count": null,
   "metadata": {},
   "outputs": [],
   "source": [
    "class Board:\n",
    "    def __init__ (self, i, j):\n",
    "        self.tableau = [[]]\n",
    "        for a in range(i):\n",
    "            for b in range(j):\n",
    "                self.tableau[a,b] = 'O'\n",
    "\n",
    "    def play(self, n, )"
   ]
  }
 ],
 "metadata": {
  "kernelspec": {
   "display_name": "ml",
   "language": "python",
   "name": "python3"
  },
  "language_info": {
   "codemirror_mode": {
    "name": "ipython",
    "version": 3
   },
   "file_extension": ".py",
   "mimetype": "text/x-python",
   "name": "python",
   "nbconvert_exporter": "python",
   "pygments_lexer": "ipython3",
   "version": "3.10.0"
  },
  "orig_nbformat": 4,
  "vscode": {
   "interpreter": {
    "hash": "818caf6d04d66d5da4d159c09196e8806d4f2fa37909d355d23e3e55cb6d81e7"
   }
  }
 },
 "nbformat": 4,
 "nbformat_minor": 2
}
