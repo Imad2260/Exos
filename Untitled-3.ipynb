{
 "cells": [
  {
   "cell_type": "code",
   "execution_count": 2,
   "metadata": {},
   "outputs": [],
   "source": [
    "class Personne:\n",
    "    def __init__(self, nom, prenom):\n",
    "        self.nom = nom\n",
    "        self.prenom = prenom\n",
    "\n",
    "    def get_nom(self):\n",
    "        return self.nom\n",
    "\n",
    "    def set_nom(self, nom):\n",
    "        self.nom = nom\n",
    "\n",
    "    def get_prenom(self):\n",
    "        return self.prenom\n",
    "\n",
    "    def set_prenom(self, prenom):\n",
    "        self.prenom = prenom\n",
    "\n",
    "\n",
    "    def SePresenter(self):\n",
    "        print('Nom : ', self.nom)\n",
    "        print('Prénom : ', self.prenom)"
   ]
  },
  {
   "cell_type": "code",
   "execution_count": 5,
   "metadata": {},
   "outputs": [
    {
     "ename": "TypeError",
     "evalue": "Livre() takes no arguments",
     "output_type": "error",
     "traceback": [
      "\u001b[1;31m---------------------------------------------------------------------------\u001b[0m",
      "\u001b[1;31mTypeError\u001b[0m                                 Traceback (most recent call last)",
      "\u001b[1;32m~\\AppData\\Local\\Temp\\ipykernel_14880\\2310557770.py\u001b[0m in \u001b[0;36m<module>\u001b[1;34m\u001b[0m\n\u001b[0;32m     24\u001b[0m \u001b[0mX\u001b[0m \u001b[1;33m=\u001b[0m \u001b[0mAuteur\u001b[0m\u001b[1;33m(\u001b[0m\u001b[1;34m'bobo'\u001b[0m\u001b[1;33m,\u001b[0m\u001b[1;34m'bibi'\u001b[0m\u001b[1;33m)\u001b[0m\u001b[1;33m\u001b[0m\u001b[1;33m\u001b[0m\u001b[0m\n\u001b[0;32m     25\u001b[0m \u001b[1;31m#A = Livre('Blabla', X.nom, X.prenom)\u001b[0m\u001b[1;33m\u001b[0m\u001b[1;33m\u001b[0m\u001b[0m\n\u001b[1;32m---> 26\u001b[1;33m \u001b[0mB\u001b[0m \u001b[1;33m=\u001b[0m \u001b[0mLivre\u001b[0m\u001b[1;33m(\u001b[0m\u001b[1;34m'Blibli'\u001b[0m\u001b[1;33m,\u001b[0m \u001b[0mX\u001b[0m\u001b[1;33m.\u001b[0m\u001b[0mnom\u001b[0m\u001b[1;33m,\u001b[0m \u001b[0mX\u001b[0m\u001b[1;33m.\u001b[0m\u001b[0mprenom\u001b[0m\u001b[1;33m)\u001b[0m\u001b[1;33m\u001b[0m\u001b[1;33m\u001b[0m\u001b[0m\n\u001b[0m\u001b[0;32m     27\u001b[0m \u001b[1;33m\u001b[0m\u001b[0m\n\u001b[0;32m     28\u001b[0m \u001b[1;31m#X = Auteur(\"bobo\",\"bibi\")\u001b[0m\u001b[1;33m\u001b[0m\u001b[1;33m\u001b[0m\u001b[0m\n",
      "\u001b[1;31mTypeError\u001b[0m: Livre() takes no arguments"
     ]
    }
   ],
   "source": [
    "class Auteur(Personne):\n",
    "\n",
    "    def init(self, nom, prenom):\n",
    "        Personne.init(self, nom, prenom)\n",
    "        self.oeuvre = []\n",
    "\n",
    "    def listelivres(self, *oeuvres):\n",
    "        for oeuvre in oeuvres:\n",
    "            self.oeuvre.append(oeuvre) \n",
    "\n",
    "    def listerOeuvre(self):\n",
    "        #print(\"L'auteur\" self.nom \"a écrit les oeuvres\")\n",
    "        for oeuvre in self.oeuvre:\n",
    "            print(oeuvre.titre) \n",
    "\n",
    "\n",
    "\n",
    "\n",
    "class Livre:\n",
    "    def init(self, titre, nom, prenom):\n",
    "        self.titre = titre\n",
    "        self.auteur = Auteur(nom,prenom)\n",
    "\n",
    "X = Auteur('bobo','bibi')\n",
    "A = Livre('Blabla', X.nom, X.prenom)\n",
    "B = Livre('Blibli', X.nom, X.prenom)\n",
    "\n",
    "#X = Auteur(\"bobo\",\"bibi\")\n",
    "#print(X.oeuvre)\n",
    "X.listelivres(A, B)\n",
    "#print(X.oeuvre)\n",
    "X.listerOeuvre()"
   ]
  },
  {
   "cell_type": "code",
   "execution_count": null,
   "metadata": {},
   "outputs": [],
   "source": []
  }
 ],
 "metadata": {
  "kernelspec": {
   "display_name": "ml",
   "language": "python",
   "name": "python3"
  },
  "language_info": {
   "codemirror_mode": {
    "name": "ipython",
    "version": 3
   },
   "file_extension": ".py",
   "mimetype": "text/x-python",
   "name": "python",
   "nbconvert_exporter": "python",
   "pygments_lexer": "ipython3",
   "version": "3.10.0"
  },
  "orig_nbformat": 4,
  "vscode": {
   "interpreter": {
    "hash": "818caf6d04d66d5da4d159c09196e8806d4f2fa37909d355d23e3e55cb6d81e7"
   }
  }
 },
 "nbformat": 4,
 "nbformat_minor": 2
}
