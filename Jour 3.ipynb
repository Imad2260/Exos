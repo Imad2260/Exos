{
 "cells": [
  {
   "attachments": {},
   "cell_type": "markdown",
   "metadata": {},
   "source": [
    "### Job 0\n",
    "Créer un programme qui demande à l'utilisateur de renseigner une chaîne de caractères\n",
    "et qui écrit cette chaine de caractère dans un fichier “output.txt”."
   ]
  },
  {
   "cell_type": "code",
   "execution_count": 117,
   "metadata": {},
   "outputs": [],
   "source": [
    "content = input('Message :')\n",
    "\n",
    "f = open(\"output.txt\", 'w')\n",
    "f.write(content)\n",
    "f.close()"
   ]
  },
  {
   "attachments": {},
   "cell_type": "markdown",
   "metadata": {},
   "source": [
    "### Job 0.1\n",
    "Créer un programme qui lit le contenu du fichier “output.txt” et qui l’affiche dans le\n",
    "terminal."
   ]
  },
  {
   "cell_type": "code",
   "execution_count": 118,
   "metadata": {},
   "outputs": [
    {
     "name": "stdout",
     "output_type": "stream",
     "text": [
      "may the force be with you\n"
     ]
    }
   ],
   "source": [
    "f = open(\"output.txt\", 'r')\n",
    "print(f.read())\n",
    "f.close()"
   ]
  },
  {
   "attachments": {},
   "cell_type": "markdown",
   "metadata": {},
   "source": [
    "### Job 01 (1)\n",
    "Créer un programme qui parcourt le contenu du fichier “domains.xml” et qui compte le\n",
    "nombre d’extension de domaines qui s’y trouvent (.com, .net, etc …)."
   ]
  },
  {
   "cell_type": "code",
   "execution_count": 119,
   "metadata": {},
   "outputs": [
    {
     "name": "stdout",
     "output_type": "stream",
     "text": [
      "338\n",
      "['.phpmyadmin', '.net', '.phpmyadmin', '.net', '.com', '.com', '.net', '.org', '.com', '.com', '.com', '.com', '.com', '.net', '.org', '.net', '.net', '.us', '.to', '.com', '.net', '.com', '.com', '.net', '.de', '.ht', '.cx', '.com', '.com', '.net', '.info', '.lawlita', '.com', '.com', '.com', '.net', '.com', '.com', '.com', '.com', '.fr', '.nf', '.blogos', '.net', '.com', '.fr', '.nf', '.com', '.de', '.in', '.com', '.com', '.com', '.it', '.it', '.com', '.net', '.com', '.com', '.de', '.com', '.com', '.com', '.com', '.co', '.ukexample', '.com', '.com', '.com', '.org', '.com', '.de', '.info', '.com', '.com', '.com', '.com', '.com', '.com', '.com', '.com', '.br', '.com', '.com', '.net', '.com', '.com', '.com', '.de', '.com', '.com', '.tk', '.com', '.com', '.com', '.in', '.com', '.com', '.net', '.com', '.com', '.com', '.in', '.com', '.com', '.co', '.uk', '.biz', '.com', '.net', '.org', '.biz', '.com', '.de', '.net', '.org', '.com', '.com', '.com', '.com', '.eu', '.info', '.info', '.info', '.com', '.org', '.com', '.net', '.org', '.com', '.com', '.fr', '.nf', '.net', '.org', '.com', '.com', '.com', '.com', '.com', '.info', '.de', '.de', '.com', '.net', '.com', '.com', '.co', '.cc', '.com', '.com', '.by', '.mezimages', '.net', '.com', '.com', '.com', '.com', '.com', '.com', '.com', '.net', '.com', '.com', '.lv', '.com', '.com', '.com', '.com', '.org', '.cc', '.zik', '.dj', '.com', '.com', '.com', '.nu', '.web', '.id', '.com', '.fr', '.nf', '.fr', '.nf', '.fr', '.nf', '.com', '.wwwnew', '.eu', '.net', '.com', '.com', '.com', '.net', '.com', '.ws', '.com', '.com', '.info', '.xl', '.cx', '.com', '.ze', '.tc', '.us', '.us', '.com', '.com', '.com', '.com', '.com', '.net', '.com', '.com', '.de', '.eu', '.com', '.com', '.com', '.at', '.me', '.net', '.comsafe', '.net', '.info', '.de', '.com', '.com', '.com', '.com', '.com', '.com', '.com', '.com', '.com', '.naar', '.gravel', '.com', '.com', '.com', '.de', '.com', '.com', '.la', '.com', '.net', '.org', '.com', '.de', '.ru', '.info', '.us', '.com', '.net', '.com', '.com', '.com', '.net', '.org', '.com', '.com', '.eu', '.com', '.de', '.eu', '.info', '.net', '.org', '.com', '.net', '.org', '.com', '.com', '.com', '.com', '.de', '.info', '.com', '.de', '.com', '.com', '.com', '.co', '.uk', '.com', '.fr', '.info', '.com', '.com', '.biz', '.com', '.net', '.co', '.uk', '.com', '.fr', '.net', '.com', '.com', '.com', '.com', '.com', '.com', '.com', '.info', '.com', '.at', '.com', '.de', '.com', '.at', '.com', '.me', '.net', '.com', '.com', '.net', '.com', '.com', '.com', '.com', '.de', '.net', '.org', '.org', '.me', '.com', '.info', '.com', '.net', '.net', '.com', '.com', '.fr', '.net', '.com', '.info', '.com']\n"
     ]
    }
   ],
   "source": [
    "import re\n",
    "\n",
    "f = open(\"domains.xml\", \"r\")\n",
    "content_domains = f.read()\n",
    "f.close()\n",
    "#########################################\n",
    "\n",
    "pattern = r'\\.[a-z]+(?=\\W)'\n",
    "result = re.findall(pattern, content_domains)\n",
    "print(len(result))\n",
    "print(result)"
   ]
  },
  {
   "attachments": {},
   "cell_type": "markdown",
   "metadata": {},
   "source": [
    "### Job 01 (2)\n",
    "Créer un programme qui parcourt le contenu du fichier “data.txt” et qui compte le\n",
    "nombre de mots (sans caractère spéciaux) qui s’y trouvent."
   ]
  },
  {
   "cell_type": "code",
   "execution_count": 120,
   "metadata": {},
   "outputs": [
    {
     "name": "stdout",
     "output_type": "stream",
     "text": [
      "909890\n"
     ]
    }
   ],
   "source": [
    "import re\n",
    "\n",
    "f = open(\"data.txt\", \"r\")\n",
    "content_data = f.read()\n",
    "f.close()\n",
    "\n",
    "test = 'Hello there my d-f-t of-course not'\n",
    "test1 = 'Hello th3re my d-f-t of_course not'\n",
    "############################################################\n",
    "\n",
    "pattern = r'(?<=^)[a-zA-Z]+(?=\\s)|(?<=\\s)[a-zA-Z]+(?=$)|(?<=\\s)[a-zA-Z]+(?=\\s)'\n",
    "result = re.findall(pattern, content_data)\n",
    "#print(result)\n",
    "print(len(result))"
   ]
  },
  {
   "cell_type": "code",
   "execution_count": 121,
   "metadata": {},
   "outputs": [
    {
     "name": "stdout",
     "output_type": "stream",
     "text": [
      "Hello there my d-f-t of-course not\n",
      "['Hello', 'there', 'my', 'not']\n",
      "4\n"
     ]
    }
   ],
   "source": [
    "result = re.findall(pattern, test)\n",
    "print(test)\n",
    "print(result)\n",
    "print(len(result))"
   ]
  },
  {
   "cell_type": "code",
   "execution_count": 122,
   "metadata": {},
   "outputs": [
    {
     "name": "stdout",
     "output_type": "stream",
     "text": [
      "Hello th3re my d-f-t of_course not\n",
      "['Hello', 'my', 'not']\n",
      "3\n"
     ]
    }
   ],
   "source": [
    "result = re.findall(pattern, test1)\n",
    "print(test1)\n",
    "print(result)\n",
    "print(len(result))"
   ]
  },
  {
   "attachments": {},
   "cell_type": "markdown",
   "metadata": {},
   "source": [
    "### Job 02\n",
    "Créer un programme qui demande à l’utilisateur de renseigner un nombre entier. Le\n",
    "programme devra alors parcourir le contenu du fichier “data.txt” compter le nombre de\n",
    "mots de la taille renseignée qui s’y trouvent."
   ]
  },
  {
   "cell_type": "code",
   "execution_count": 139,
   "metadata": {},
   "outputs": [
    {
     "name": "stdout",
     "output_type": "stream",
     "text": [
      "142\n",
      "[' interrogatiunculis ', ' interrogatiunculis ', ' interrogatiunculis ', ' interrogatiunculis ', ' interrogatiunculis ', ' interrogatiunculis ']\n"
     ]
    }
   ],
   "source": [
    "import re\n",
    "\n",
    "f = open(\"data.txt\", \"r\")\n",
    "content_data = f.read()\n",
    "f.close()\n",
    "###############################################\n",
    "\n",
    "n = input('Nombre entier :')\n",
    "n = str(int(n))\n",
    "\n",
    "pattern = r'[\\s|^]\\w{'+ n +'}[\\s|$]'\n",
    "result = re.findall(pattern, content_data)\n",
    "\n",
    "print(len(result))\n",
    "print(result[:6])"
   ]
  },
  {
   "cell_type": "code",
   "execution_count": null,
   "metadata": {},
   "outputs": [],
   "source": []
  }
 ],
 "metadata": {
  "kernelspec": {
   "display_name": "ml",
   "language": "python",
   "name": "python3"
  },
  "language_info": {
   "codemirror_mode": {
    "name": "ipython",
    "version": 3
   },
   "file_extension": ".py",
   "mimetype": "text/x-python",
   "name": "python",
   "nbconvert_exporter": "python",
   "pygments_lexer": "ipython3",
   "version": "3.10.0"
  },
  "orig_nbformat": 4,
  "vscode": {
   "interpreter": {
    "hash": "818caf6d04d66d5da4d159c09196e8806d4f2fa37909d355d23e3e55cb6d81e7"
   }
  }
 },
 "nbformat": 4,
 "nbformat_minor": 2
}
