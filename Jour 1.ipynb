{
 "cells": [
  {
   "attachments": {},
   "cell_type": "markdown",
   "metadata": {},
   "source": [
    "### Job 11\n",
    "\n",
    "Créez un programme qui demande à l’utilisateur de renseigner son prénom via l’invite de\n",
    "commande grâce à la fonction input(). Le programme doit alors afficher dans le\n",
    "terminal “Hello xx !” ou xx est le prénom entré par l’utilisateur."
   ]
  },
  {
   "cell_type": "code",
   "execution_count": 3,
   "metadata": {},
   "outputs": [
    {
     "name": "stdout",
     "output_type": "stream",
     "text": [
      "Hello imad\n"
     ]
    }
   ],
   "source": [
    "prenom = input(\"Votre prénom :\")\n",
    "\n",
    "print(\"Hello\", prenom)"
   ]
  },
  {
   "cell_type": "code",
   "execution_count": 9,
   "metadata": {},
   "outputs": [
    {
     "name": "stdout",
     "output_type": "stream",
     "text": [
      "hello world\n"
     ]
    }
   ],
   "source": [
    "print(\"hello world\")\n"
   ]
  },
  {
   "attachments": {},
   "cell_type": "markdown",
   "metadata": {},
   "source": [
    "### Job 13\n",
    "Créez un programme qui demande 5 fois à l’utilisateur de renseigner un nombre entier.\n",
    "Stockez ces nombres entiers dans une liste puis triez-les par ordre croissant avant de\n",
    "les afficher, dans l’ordre, dans le terminal."
   ]
  },
  {
   "cell_type": "code",
   "execution_count": 8,
   "metadata": {},
   "outputs": [
    {
     "name": "stdout",
     "output_type": "stream",
     "text": [
      "['1', '2', '3', '4', '5']\n"
     ]
    }
   ],
   "source": [
    "L = []\n",
    "for i in range(5):\n",
    "    n = input(\"Nombre entier :\")\n",
    "    L.append(n)\n",
    "#L = L.sort()\n",
    "print (sorted(L))"
   ]
  },
  {
   "attachments": {},
   "cell_type": "markdown",
   "metadata": {},
   "source": [
    "### Job 17\n",
    "Écrire un programme qui itère les nombres entiers de 1 à 100. Pour les multiples de\n",
    "trois, afficher \"Fizz\" au lieu du nombre et pour les multiples de cinq afficher \"Buzz\". Pour\n",
    "les nombres qui sont des multiples de trois et cinq, afficher \"FizzBuzz\"."
   ]
  },
  {
   "cell_type": "code",
   "execution_count": 12,
   "metadata": {},
   "outputs": [
    {
     "name": "stdout",
     "output_type": "stream",
     "text": [
      "1\n",
      "2\n",
      "Fizz\n",
      "4\n",
      "Buzz\n",
      "Fizz\n",
      "7\n",
      "8\n",
      "Fizz\n",
      "Buzz\n",
      "11\n",
      "Fizz\n",
      "13\n",
      "14\n",
      "FizzBuzz\n",
      "16\n",
      "17\n",
      "Fizz\n",
      "19\n",
      "Buzz\n",
      "Fizz\n",
      "22\n",
      "23\n",
      "Fizz\n",
      "Buzz\n",
      "26\n",
      "Fizz\n",
      "28\n",
      "29\n",
      "FizzBuzz\n",
      "31\n",
      "32\n",
      "Fizz\n",
      "34\n",
      "Buzz\n",
      "Fizz\n",
      "37\n",
      "38\n",
      "Fizz\n",
      "Buzz\n",
      "41\n",
      "Fizz\n",
      "43\n",
      "44\n",
      "FizzBuzz\n",
      "46\n",
      "47\n",
      "Fizz\n",
      "49\n",
      "Buzz\n",
      "Fizz\n",
      "52\n",
      "53\n",
      "Fizz\n",
      "Buzz\n",
      "56\n",
      "Fizz\n",
      "58\n",
      "59\n",
      "FizzBuzz\n",
      "61\n",
      "62\n",
      "Fizz\n",
      "64\n",
      "Buzz\n",
      "Fizz\n",
      "67\n",
      "68\n",
      "Fizz\n",
      "Buzz\n",
      "71\n",
      "Fizz\n",
      "73\n",
      "74\n",
      "FizzBuzz\n",
      "76\n",
      "77\n",
      "Fizz\n",
      "79\n",
      "Buzz\n",
      "Fizz\n",
      "82\n",
      "83\n",
      "Fizz\n",
      "Buzz\n",
      "86\n",
      "Fizz\n",
      "88\n",
      "89\n",
      "FizzBuzz\n",
      "91\n",
      "92\n",
      "Fizz\n",
      "94\n",
      "Buzz\n",
      "Fizz\n",
      "97\n",
      "98\n",
      "Fizz\n",
      "Buzz\n"
     ]
    }
   ],
   "source": [
    "for i in range(1, 101) :\n",
    "    if i%3 == 0 and i%5 != 0 :\n",
    "        print('Fizz')\n",
    "\n",
    "    elif i%5 == 0 and i%3 != 0 :\n",
    "        print('Buzz')\n",
    "\n",
    "    elif i%5 == 0 and i%3 == 0 :\n",
    "        print('FizzBuzz')\n",
    "\n",
    "    else :\n",
    "        print(i)\n"
   ]
  },
  {
   "attachments": {},
   "cell_type": "markdown",
   "metadata": {},
   "source": [
    "### Job 19\n",
    "Écrire un programme qui affiche dans le terminal un rectangle avec des ‘-’ et des ‘|’ en\n",
    "fonction des paramètres d’entrées, (width, height), par exemple :\n",
    "draw_rectangle(10, 3)"
   ]
  },
  {
   "cell_type": "code",
   "execution_count": 23,
   "metadata": {},
   "outputs": [],
   "source": [
    "def draw_rectangle(w, h) :\n",
    "    for i in range (h):\n",
    "        print ('|', end='')\n",
    "\n",
    "        for j in range (w):\n",
    "            print('-', end='')\n",
    "\n",
    "        print('|')\n",
    "        "
   ]
  },
  {
   "cell_type": "code",
   "execution_count": 24,
   "metadata": {},
   "outputs": [
    {
     "name": "stdout",
     "output_type": "stream",
     "text": [
      "|-----|\n",
      "|-----|\n",
      "|-----|\n",
      "|-----|\n",
      "|-----|\n",
      "|-----|\n"
     ]
    }
   ],
   "source": [
    "draw_rectangle(5,6)"
   ]
  },
  {
   "attachments": {},
   "cell_type": "markdown",
   "metadata": {},
   "source": [
    "### Job 23\n",
    "Écrire un programme qui affiche dans le terminal un triangle avec des ‘_’, des ‘\\’ et des ‘/’\n",
    "en fonction des paramètres d’entrées, (height), par exemple :\n",
    "draw_triangle(5)"
   ]
  },
  {
   "cell_type": "code",
   "execution_count": 61,
   "metadata": {},
   "outputs": [],
   "source": [
    "def draw_triangle(h):\n",
    "    n = 0\n",
    "    L = []\n",
    "    for i in range(h-1) :\n",
    "        for j in range(h, n, -1):\n",
    "            print(' ', end=\"\")\n",
    "        print(\"/\", end=\"\")\n",
    "        for j in range(n):\n",
    "            print('  ', end=\"\")\n",
    "        print('\\\\')\n",
    "        n += 1\n",
    "\n",
    "    for j in range(h, n, -1):\n",
    "        print(' ', end=\"\")\n",
    "    print(\"/\", end=\"\")\n",
    "    for j in range(n):\n",
    "        print('__', end=\"\")\n",
    "    print('\\\\')\n"
   ]
  },
  {
   "cell_type": "code",
   "execution_count": 62,
   "metadata": {},
   "outputs": [
    {
     "name": "stdout",
     "output_type": "stream",
     "text": [
      "     /\\\n",
      "    /  \\\n",
      "   /    \\\n",
      "  /      \\\n",
      " /________\\\n"
     ]
    }
   ],
   "source": [
    "draw_triangle(5)"
   ]
  },
  {
   "attachments": {},
   "cell_type": "markdown",
   "metadata": {},
   "source": [
    "### Job 29\n",
    "Luke Skywalker, un professeur de Math, fait passer un test et décide de noter ses élèves\n",
    "sur une échelle allant de 0 à 100 inclus.\n",
    "Si un étudiant obtient moins de 40 sur 100, il échoue au test.\n",
    "S'il a plus de 40, il réussit le test. Luke est un professeur fort sympathique et décide\n",
    "donc d’arrondir à la hausse les notes des étudiants ayant réussi le test. Mais Luke n’est\n",
    "quand même pas trop gentil. Cet arrondi à la hausse ne bénéficiera qu’aux étudiants\n",
    "remplissant certains critères car, tout de même, il ne faut pas exagérer, sans blague.\n",
    "Le critère est simple: Si un étudiant a eu une note de moins de strictement 3 points de\n",
    "son prochain multiple de 5, alors sa note est arrondie à ce multiple de 5. Par exemple,\n",
    "un 83 sera arrondi à 85 alors qu’un 82 restera un 82.\n",
    "Pour simplifier le travail de Luke, écrivez une fonction qui prend en paramètre une liste\n",
    "de notes et qui renvoie une liste de notes, arrondies comme il se doit, quand cela est\n",
    "nécessaire."
   ]
  },
  {
   "cell_type": "code",
   "execution_count": 65,
   "metadata": {},
   "outputs": [],
   "source": [
    "def notes_arrondies(L):\n",
    "    H = []\n",
    "    for i in L:\n",
    "        if i%5 < 3 :\n",
    "            H.append(i)\n",
    "        else :\n",
    "            H.append(i+ (5 - i%5))\n",
    "    return H"
   ]
  },
  {
   "cell_type": "code",
   "execution_count": 66,
   "metadata": {},
   "outputs": [
    {
     "data": {
      "text/plain": [
       "[82, 85]"
      ]
     },
     "execution_count": 66,
     "metadata": {},
     "output_type": "execute_result"
    }
   ],
   "source": [
    "L = [82, 83]\n",
    "notes_arrondies(L)"
   ]
  },
  {
   "attachments": {},
   "cell_type": "markdown",
   "metadata": {},
   "source": [
    "### Job 31\n",
    "Créer un programme qui demandera à l’utilisateur de renseigner un mot et un seul, sans\n",
    "espace ni aucun autre caractère que les 26 lettres de l’alphabet (sans accent ni\n",
    "majuscule).\n",
    "Votre programme devra modifier ce mot, en y changeant de place certains caractères\n",
    "(ou tous) afin de donner un mot plus “loin” dans l’ordre alphabétique que le mot\n",
    "renseigné par l'utilisateur.\n",
    "Attention: Le nouveau mot doit être le mot le plus proche possible, dans l’ordre\n",
    "alphabétique, du mot original !\n",
    "Par exemple, “abcde” donnerait “abced”. “acedb” est aussi “valide” mais n’est PAS le\n",
    "plus proche du mot original dans l’ordre alphabétique."
   ]
  },
  {
   "cell_type": "code",
   "execution_count": 135,
   "metadata": {},
   "outputs": [],
   "source": [
    "import unidecode\n",
    "def mot_plus_loin (mot):\n",
    "    \n",
    "    L = []\n",
    "    for i in mot :\n",
    "        if i.isalpha():\n",
    "            L.append(i)\n",
    "    mot = ''.join(L)\n",
    "\n",
    "    mot = unidecode.unidecode(mot)\n",
    "    mot = mot.lower()\n",
    "\n",
    "    m = list(mot)\n",
    "    mot_inverse = []\n",
    "    H = []\n",
    "    for i in range(len(m)-1, -1, -1) :\n",
    "        mot_inverse.append(m[i])\n",
    "        if i == len(m)-1 :\n",
    "            continue\n",
    "        else :\n",
    "            if m[i] >= m[i+1] :\n",
    "                continue\n",
    "            elif m[i] < m[i+1] :\n",
    "                S = sorted(mot_inverse)\n",
    "                indice = S.index(m[i])\n",
    "                H.append(S[indice + 1])\n",
    "                S.pop(indice + 1)\n",
    "                for s in S :\n",
    "                    H.append(s)\n",
    "                R = mot[0:i]\n",
    "                H = ''.join(H)\n",
    "                return str(R) + str(H)\n",
    "\n",
    "\n"
   ]
  },
  {
   "cell_type": "code",
   "execution_count": 138,
   "metadata": {},
   "outputs": [
    {
     "data": {
      "text/plain": [
       "'voiuert'"
      ]
     },
     "execution_count": 138,
     "metadata": {},
     "output_type": "execute_result"
    }
   ],
   "source": [
    "mot_plus_loin(\"voiture\")"
   ]
  }
 ],
 "metadata": {
  "kernelspec": {
   "display_name": "ml",
   "language": "python",
   "name": "python3"
  },
  "language_info": {
   "codemirror_mode": {
    "name": "ipython",
    "version": 3
   },
   "file_extension": ".py",
   "mimetype": "text/x-python",
   "name": "python",
   "nbconvert_exporter": "python",
   "pygments_lexer": "ipython3",
   "version": "3.10.0"
  },
  "orig_nbformat": 4,
  "vscode": {
   "interpreter": {
    "hash": "818caf6d04d66d5da4d159c09196e8806d4f2fa37909d355d23e3e55cb6d81e7"
   }
  }
 },
 "nbformat": 4,
 "nbformat_minor": 2
}
