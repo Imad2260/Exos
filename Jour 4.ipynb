{
 "cells": [
  {
   "attachments": {},
   "cell_type": "markdown",
   "metadata": {},
   "source": [
    "### Job 0\n",
    "Créer un programme demandant à l’utilisateur de renseigner un nombre entier. Votre\n",
    "programme devra calculer la factorielle de ce nombre, sans utiliser de fonction autre\n",
    "que les vôtres. Attention, vous ne devez utiliser ni while, ni for, ni foreach ni … boucle.\n",
    "Seulement de la récursivité."
   ]
  },
  {
   "cell_type": "code",
   "execution_count": 8,
   "metadata": {},
   "outputs": [
    {
     "data": {
      "text/plain": [
       "24"
      ]
     },
     "execution_count": 8,
     "metadata": {},
     "output_type": "execute_result"
    }
   ],
   "source": [
    "n = input('Nombre entier :')\n",
    "n = int(n)\n",
    "\n",
    "def factoriel(n) :\n",
    "    if n == 0 or n == 1 :\n",
    "        return 1\n",
    "    else :\n",
    "        return(n * factoriel(n-1))\n",
    "\n",
    "factoriel(n)"
   ]
  },
  {
   "attachments": {},
   "cell_type": "markdown",
   "metadata": {},
   "source": [
    "### Job 0.1\n",
    "Créer un programme demandant à l’utilisateur de renseigner un nombre entier. Votre\n",
    "programme devra calculer x^n, où n est le nombre fourni par l’utilisateur, sans utiliser de\n",
    "fonction autre que les vôtres. Attention, vous ne devez utiliser ni while, ni for, ni foreach\n",
    "ni … boucle. Seulement de la récursivité."
   ]
  },
  {
   "cell_type": "code",
   "execution_count": 11,
   "metadata": {},
   "outputs": [
    {
     "data": {
      "text/plain": [
       "9"
      ]
     },
     "execution_count": 11,
     "metadata": {},
     "output_type": "execute_result"
    }
   ],
   "source": [
    "x = int(input('base x :'))\n",
    "n = int(input('exposant :'))\n",
    "\n",
    "def puissance(x, n):\n",
    "    if n == 0 :\n",
    "        return 1\n",
    "    elif n == 1 :\n",
    "        return x\n",
    "    else :\n",
    "        return x * puissance(x, n-1)\n",
    "\n",
    "puissance(x, n)"
   ]
  },
  {
   "attachments": {},
   "cell_type": "markdown",
   "metadata": {},
   "source": [
    "### Job 03\n",
    "Créer un programme qui modélise un plateau de jeu, carré, de n x n cases. Placez sur ce\n",
    "plateau n dames de jeu d'échecs, de manière à ce qu’aucune dame ne puisse se\n",
    "“prendre”, quand cela est possible. La valeur de n est renseignée par l’utilisateur. Quand\n",
    "cela est possible, le programme devra afficher dans le terminal le plateau de jeu avec le\n",
    "caractère ‘O’ pour les cases vides et le caractère ‘X’ pour représenter les dames."
   ]
  },
  {
   "cell_type": "code",
   "execution_count": 60,
   "metadata": {},
   "outputs": [
    {
     "data": {
      "text/plain": [
       "array([['X', 'O', 'O', 'O', 'O', 'O', 'O', 'O'],\n",
       "       ['O', 'O', 'X', 'O', 'O', 'O', 'O', 'O'],\n",
       "       ['O', 'O', 'O', 'O', 'X', 'O', 'O', 'O'],\n",
       "       ['O', 'X', 'O', 'O', 'O', 'O', 'O', 'O'],\n",
       "       ['O', 'O', 'O', 'X', 'O', 'O', 'O', 'O'],\n",
       "       ['O', 'O', 'O', 'O', 'O', 'O', 'O', 'O'],\n",
       "       ['O', 'O', 'O', 'O', 'O', 'O', 'O', 'O'],\n",
       "       ['O', 'O', 'O', 'O', 'O', 'O', 'O', 'O']], dtype='<U1')"
      ]
     },
     "execution_count": 60,
     "metadata": {},
     "output_type": "execute_result"
    }
   ],
   "source": [
    "import numpy as np\n",
    "\n",
    "n = int(input('Saisir un entier (taille du tableau): '))\n",
    "\n",
    "def plateau_de_jeu(n):\n",
    "    v = n\n",
    "    if n == 0 :\n",
    "        L = np.array([[]])\n",
    "    elif n == 1 :\n",
    "        L = np.array([['X']])\n",
    "    else :\n",
    "        L = np.array([['O' for i in range(n)] for j in range(n)])\n",
    "        for i in range(n-1):\n",
    "            for j in range(n-1):\n",
    "                L[i,j] = plateau_de_jeu(n-1)[i,j]\n",
    "        for i in range(n-1) :\n",
    "            if ('X' in L[i,:]):\n",
    "                L[i,n-1] = 'O'\n",
    "            else : \n",
    "                L[i,n-1] = 'X'\n",
    "                v = i\n",
    "\n",
    "        for j in range(n-1) :\n",
    "            if ('X' in L[:,j]) or (j == v):\n",
    "                L[n-1,j] = 'O'\n",
    "            else : \n",
    "                L[n-1,j] = 'X'\n",
    "        L[n-1,n-1] = 'O'\n",
    "        \n",
    "        for i in range(n):\n",
    "            for j in range(n):\n",
    "                if L[i,j] == 'X':\n",
    "                    h,l = i,j\n",
    "                    p,q = i,j\n",
    "                    while h < n-1 and l < n-1 :\n",
    "                        h += 1\n",
    "                        l += 1\n",
    "                        L[h,l] = 'O'\n",
    "                    while p > 0 and q > 0 :\n",
    "                        p -= 1\n",
    "                        q -= 1\n",
    "                        L[p,q] = 'O'\n",
    "                    \n",
    "\n",
    "    return np.array(L)\n",
    "\n",
    "plateau_de_jeu(n)        "
   ]
  }
 ],
 "metadata": {
  "kernelspec": {
   "display_name": "ml",
   "language": "python",
   "name": "python3"
  },
  "language_info": {
   "codemirror_mode": {
    "name": "ipython",
    "version": 3
   },
   "file_extension": ".py",
   "mimetype": "text/x-python",
   "name": "python",
   "nbconvert_exporter": "python",
   "pygments_lexer": "ipython3",
   "version": "3.10.0"
  },
  "orig_nbformat": 4,
  "vscode": {
   "interpreter": {
    "hash": "818caf6d04d66d5da4d159c09196e8806d4f2fa37909d355d23e3e55cb6d81e7"
   }
  }
 },
 "nbformat": 4,
 "nbformat_minor": 2
}
